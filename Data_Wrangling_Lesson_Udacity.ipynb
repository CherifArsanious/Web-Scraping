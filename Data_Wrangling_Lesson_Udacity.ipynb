{
  "nbformat": 4,
  "nbformat_minor": 0,
  "metadata": {
    "colab": {
      "name": "Data-Wrangling-Lesson-Udacity.ipynb",
      "provenance": [],
      "collapsed_sections": [],
      "authorship_tag": "ABX9TyPZopIqloDsODvC5m/VOyY+",
      "include_colab_link": true
    },
    "kernelspec": {
      "name": "python3",
      "display_name": "Python 3"
    }
  },
  "cells": [
    {
      "cell_type": "markdown",
      "metadata": {
        "id": "view-in-github",
        "colab_type": "text"
      },
      "source": [
        "<a href=\"https://colab.research.google.com/github/CherifArsanious/Web-Scraping/blob/master/Data_Wrangling_Lesson_Udacity.ipynb\" target=\"_parent\"><img src=\"https://colab.research.google.com/assets/colab-badge.svg\" alt=\"Open In Colab\"/></a>"
      ]
    },
    {
      "cell_type": "code",
      "metadata": {
        "id": "fKob4YClQ2zW",
        "colab_type": "code",
        "colab": {}
      },
      "source": [
        "import pandas as pd"
      ],
      "execution_count": 0,
      "outputs": []
    },
    {
      "cell_type": "code",
      "metadata": {
        "id": "O7-8unU5XwCo",
        "colab_type": "code",
        "outputId": "3c517461-93ef-41ee-f817-8ddc799df771",
        "colab": {
          "base_uri": "https://localhost:8080/",
          "height": 54
        }
      },
      "source": [
        "!git clone https://github.com/CherifArsanious/Web-Scraping.git"
      ],
      "execution_count": 0,
      "outputs": [
        {
          "output_type": "stream",
          "text": [
            "fatal: destination path 'Web-Scraping' already exists and is not an empty directory.\n"
          ],
          "name": "stdout"
        }
      ]
    },
    {
      "cell_type": "code",
      "metadata": {
        "id": "1BlrcXVGYMFi",
        "colab_type": "code",
        "colab": {}
      },
      "source": [
        "df=pd.read_csv('Web-Scraping/bestofrt.tsv',sep='\\t')"
      ],
      "execution_count": 0,
      "outputs": []
    },
    {
      "cell_type": "code",
      "metadata": {
        "id": "tUd4RtUWYkMq",
        "colab_type": "code",
        "outputId": "5aa33d0f-ac00-4bb0-db59-880b430b83c7",
        "colab": {
          "base_uri": "https://localhost:8080/",
          "height": 204
        }
      },
      "source": [
        "#checking the file was imported correctly\n",
        "df.head()"
      ],
      "execution_count": 0,
      "outputs": [
        {
          "output_type": "execute_result",
          "data": {
            "text/html": [
              "<div>\n",
              "<style scoped>\n",
              "    .dataframe tbody tr th:only-of-type {\n",
              "        vertical-align: middle;\n",
              "    }\n",
              "\n",
              "    .dataframe tbody tr th {\n",
              "        vertical-align: top;\n",
              "    }\n",
              "\n",
              "    .dataframe thead th {\n",
              "        text-align: right;\n",
              "    }\n",
              "</style>\n",
              "<table border=\"1\" class=\"dataframe\">\n",
              "  <thead>\n",
              "    <tr style=\"text-align: right;\">\n",
              "      <th></th>\n",
              "      <th>ranking</th>\n",
              "      <th>critic_score</th>\n",
              "      <th>title</th>\n",
              "      <th>number_of_critic_ratings</th>\n",
              "    </tr>\n",
              "  </thead>\n",
              "  <tbody>\n",
              "    <tr>\n",
              "      <th>0</th>\n",
              "      <td>1</td>\n",
              "      <td>99</td>\n",
              "      <td>The Wizard of Oz (1939)</td>\n",
              "      <td>110</td>\n",
              "    </tr>\n",
              "    <tr>\n",
              "      <th>1</th>\n",
              "      <td>2</td>\n",
              "      <td>100</td>\n",
              "      <td>Citizen Kane (1941)</td>\n",
              "      <td>75</td>\n",
              "    </tr>\n",
              "    <tr>\n",
              "      <th>2</th>\n",
              "      <td>3</td>\n",
              "      <td>100</td>\n",
              "      <td>The Third Man (1949)</td>\n",
              "      <td>77</td>\n",
              "    </tr>\n",
              "    <tr>\n",
              "      <th>3</th>\n",
              "      <td>4</td>\n",
              "      <td>99</td>\n",
              "      <td>Get Out (2017)</td>\n",
              "      <td>282</td>\n",
              "    </tr>\n",
              "    <tr>\n",
              "      <th>4</th>\n",
              "      <td>5</td>\n",
              "      <td>97</td>\n",
              "      <td>Mad Max: Fury Road (2015)</td>\n",
              "      <td>370</td>\n",
              "    </tr>\n",
              "  </tbody>\n",
              "</table>\n",
              "</div>"
            ],
            "text/plain": [
              "   ranking  critic_score                      title  number_of_critic_ratings\n",
              "0        1            99    The Wizard of Oz (1939)                       110\n",
              "1        2           100        Citizen Kane (1941)                        75\n",
              "2        3           100       The Third Man (1949)                        77\n",
              "3        4            99             Get Out (2017)                       282\n",
              "4        5            97  Mad Max: Fury Road (2015)                       370"
            ]
          },
          "metadata": {
            "tags": []
          },
          "execution_count": 4
        }
      ]
    },
    {
      "cell_type": "code",
      "metadata": {
        "id": "kLxfx2fJbpKC",
        "colab_type": "code",
        "colab": {}
      },
      "source": [
        "from zipfile import ZipFile"
      ],
      "execution_count": 0,
      "outputs": []
    },
    {
      "cell_type": "code",
      "metadata": {
        "id": "Kd3EiLQRckVI",
        "colab_type": "code",
        "colab": {}
      },
      "source": [
        "file_name='data-gathering/rt-html.zip'"
      ],
      "execution_count": 0,
      "outputs": []
    },
    {
      "cell_type": "code",
      "metadata": {
        "id": "01WbJLCxdG97",
        "colab_type": "code",
        "outputId": "1634c475-cac9-4d24-e782-bf0b871e2d00",
        "colab": {
          "base_uri": "https://localhost:8080/",
          "height": 51
        }
      },
      "source": [
        "with ZipFile(file_name,'r') as zip:\n",
        "  print('extracting all the files now')\n",
        "  zip.extractall()\n",
        "  print('done')"
      ],
      "execution_count": 0,
      "outputs": [
        {
          "output_type": "stream",
          "text": [
            "extracting all the files now\n",
            "done\n"
          ],
          "name": "stdout"
        }
      ]
    },
    {
      "cell_type": "code",
      "metadata": {
        "id": "uYAn7Ek0dmh6",
        "colab_type": "code",
        "colab": {}
      },
      "source": [
        "import os \n",
        "from bs4 import BeautifulSoup"
      ],
      "execution_count": 0,
      "outputs": []
    },
    {
      "cell_type": "code",
      "metadata": {
        "id": "mHjZ11wgiy8t",
        "colab_type": "code",
        "colab": {}
      },
      "source": [
        "df_list=[]\n",
        "folder='rt_html'\n",
        "for movie_html in os.listdir(folder):\n",
        "  with open(os.path.join(folder,movie_html)) as file:\n",
        "    soup=BeautifulSoup(file,'lxml')\n",
        "    title=soup.title.contents[0][:-len(' - Rotten Tomatoes')]\n",
        "    #other possible code: title=soup.title.text.split('-')[0]\n",
        "    audience_score=soup.find('div',class_='audience-score meter').find('span').contents[0][:-1]\n",
        "    #other possible code audience_score=soup.find('div',class_='meter-value').text.split('%')[0][1:]\n",
        "    number_audience_ratings=soup.find('div',class_='audience-info hidden-xs superPageFontColor').find_all('div')[1].contents[2].strip().replace(',','')\n",
        "    #other possible code num_audience=soup.find_all('div',class_=\"audience-info hidden-xs superPageFontColor\")[0].text.split(':')[2].replace(',','').strip()\n",
        "    df_list.append({'title':title,\n",
        "                    'audience_score':int(audience_score),\n",
        "                    'num_audience':int(number_audience_ratings)})\n",
        "  \n",
        "  "
      ],
      "execution_count": 0,
      "outputs": []
    },
    {
      "cell_type": "code",
      "metadata": {
        "id": "0R0G5eLmmGka",
        "colab_type": "code",
        "outputId": "050a6b88-5b3e-4d52-c2d1-1b03196a7684",
        "colab": {
          "base_uri": "https://localhost:8080/",
          "height": 204
        }
      },
      "source": [
        "#making sure the result is what we expect\n",
        "audience_review=pd.DataFrame(df_list)\n",
        "audience_review.head()"
      ],
      "execution_count": 0,
      "outputs": [
        {
          "output_type": "execute_result",
          "data": {
            "text/html": [
              "<div>\n",
              "<style scoped>\n",
              "    .dataframe tbody tr th:only-of-type {\n",
              "        vertical-align: middle;\n",
              "    }\n",
              "\n",
              "    .dataframe tbody tr th {\n",
              "        vertical-align: top;\n",
              "    }\n",
              "\n",
              "    .dataframe thead th {\n",
              "        text-align: right;\n",
              "    }\n",
              "</style>\n",
              "<table border=\"1\" class=\"dataframe\">\n",
              "  <thead>\n",
              "    <tr style=\"text-align: right;\">\n",
              "      <th></th>\n",
              "      <th>title</th>\n",
              "      <th>audience_score</th>\n",
              "      <th>num_audience</th>\n",
              "    </tr>\n",
              "  </thead>\n",
              "  <tbody>\n",
              "    <tr>\n",
              "      <th>0</th>\n",
              "      <td>Open City (1946)</td>\n",
              "      <td>92</td>\n",
              "      <td>6128</td>\n",
              "    </tr>\n",
              "    <tr>\n",
              "      <th>1</th>\n",
              "      <td>The Babadook (2014)</td>\n",
              "      <td>72</td>\n",
              "      <td>37024</td>\n",
              "    </tr>\n",
              "    <tr>\n",
              "      <th>2</th>\n",
              "      <td>Dunkirk (2017)</td>\n",
              "      <td>82</td>\n",
              "      <td>53555</td>\n",
              "    </tr>\n",
              "    <tr>\n",
              "      <th>3</th>\n",
              "      <td>Inside Out (2015)</td>\n",
              "      <td>89</td>\n",
              "      <td>133558</td>\n",
              "    </tr>\n",
              "    <tr>\n",
              "      <th>4</th>\n",
              "      <td>Man on Wire (2008)</td>\n",
              "      <td>87</td>\n",
              "      <td>29827</td>\n",
              "    </tr>\n",
              "  </tbody>\n",
              "</table>\n",
              "</div>"
            ],
            "text/plain": [
              "                 title  audience_score  num_audience\n",
              "0     Open City (1946)              92          6128\n",
              "1  The Babadook (2014)              72         37024\n",
              "2       Dunkirk (2017)              82         53555\n",
              "3    Inside Out (2015)              89        133558\n",
              "4   Man on Wire (2008)              87         29827"
            ]
          },
          "metadata": {
            "tags": []
          },
          "execution_count": 10
        }
      ]
    },
    {
      "cell_type": "code",
      "metadata": {
        "id": "B5erLsg8BgFH",
        "colab_type": "code",
        "colab": {}
      },
      "source": [
        "folder_name='ebert_reviews'\n",
        "if not os.path.exists(folder_name):\n",
        "  os.makedirs(folder_name)"
      ],
      "execution_count": 0,
      "outputs": []
    },
    {
      "cell_type": "code",
      "metadata": {
        "id": "lsVBexiH7PYy",
        "colab_type": "code",
        "colab": {}
      },
      "source": [
        "import requests"
      ],
      "execution_count": 0,
      "outputs": []
    },
    {
      "cell_type": "code",
      "metadata": {
        "id": "ozb0I6I38NhM",
        "colab_type": "code",
        "colab": {}
      },
      "source": [
        "ebert_review_urls = ['https://d17h27t6h515a5.cloudfront.net/topher/2017/September/59ad9900_1-the-wizard-of-oz-1939-film/1-the-wizard-of-oz-1939-film.txt',\n",
        "                     'https://d17h27t6h515a5.cloudfront.net/topher/2017/September/59ad9901_2-citizen-kane/2-citizen-kane.txt',\n",
        "                     'https://d17h27t6h515a5.cloudfront.net/topher/2017/September/59ad9901_3-the-third-man/3-the-third-man.txt',\n",
        "                     'https://d17h27t6h515a5.cloudfront.net/topher/2017/September/59ad9902_4-get-out-film/4-get-out-film.txt',\n",
        "                     'https://d17h27t6h515a5.cloudfront.net/topher/2017/September/59ad9902_5-mad-max-fury-road/5-mad-max-fury-road.txt',\n",
        "                     'https://d17h27t6h515a5.cloudfront.net/topher/2017/September/59ad9902_6-the-cabinet-of-dr.-caligari/6-the-cabinet-of-dr.-caligari.txt',\n",
        "                     'https://d17h27t6h515a5.cloudfront.net/topher/2017/September/59ad9903_7-all-about-eve/7-all-about-eve.txt',\n",
        "                     'https://d17h27t6h515a5.cloudfront.net/topher/2017/September/59ad9903_8-inside-out-2015-film/8-inside-out-2015-film.txt',\n",
        "                     'https://d17h27t6h515a5.cloudfront.net/topher/2017/September/59ad9903_9-the-godfather/9-the-godfather.txt',\n",
        "                     'https://d17h27t6h515a5.cloudfront.net/topher/2017/September/59ad9904_10-metropolis-1927-film/10-metropolis-1927-film.txt',\n",
        "                     'https://d17h27t6h515a5.cloudfront.net/topher/2017/September/59ad9904_11-e.t.-the-extra-terrestrial/11-e.t.-the-extra-terrestrial.txt',\n",
        "                     'https://d17h27t6h515a5.cloudfront.net/topher/2017/September/59ad9904_12-modern-times-film/12-modern-times-film.txt',\n",
        "                     'https://d17h27t6h515a5.cloudfront.net/topher/2017/September/59ad9904_14-singin-in-the-rain/14-singin-in-the-rain.txt',\n",
        "                     'https://d17h27t6h515a5.cloudfront.net/topher/2017/September/59ad9905_15-boyhood-film/15-boyhood-film.txt',\n",
        "                     'https://d17h27t6h515a5.cloudfront.net/topher/2017/September/59ad9905_16-casablanca-film/16-casablanca-film.txt',\n",
        "                     'https://d17h27t6h515a5.cloudfront.net/topher/2017/September/59ad9905_17-moonlight-2016-film/17-moonlight-2016-film.txt',\n",
        "                     'https://d17h27t6h515a5.cloudfront.net/topher/2017/September/59ad9906_18-psycho-1960-film/18-psycho-1960-film.txt',\n",
        "                     'https://d17h27t6h515a5.cloudfront.net/topher/2017/September/59ad9906_19-laura-1944-film/19-laura-1944-film.txt',\n",
        "                     'https://d17h27t6h515a5.cloudfront.net/topher/2017/September/59ad9906_20-nosferatu/20-nosferatu.txt',\n",
        "                     'https://d17h27t6h515a5.cloudfront.net/topher/2017/September/59ad9907_21-snow-white-and-the-seven-dwarfs-1937-film/21-snow-white-and-the-seven-dwarfs-1937-film.txt',\n",
        "                     'https://d17h27t6h515a5.cloudfront.net/topher/2017/September/59ad9907_22-a-hard-day27s-night-film/22-a-hard-day27s-night-film.txt',\n",
        "                     'https://d17h27t6h515a5.cloudfront.net/topher/2017/September/59ad9907_23-la-grande-illusion/23-la-grande-illusion.txt',\n",
        "                     'https://d17h27t6h515a5.cloudfront.net/topher/2017/September/59ad9908_25-the-battle-of-algiers/25-the-battle-of-algiers.txt',\n",
        "                     'https://d17h27t6h515a5.cloudfront.net/topher/2017/September/59ad9908_26-dunkirk-2017-film/26-dunkirk-2017-film.txt',\n",
        "                     'https://d17h27t6h515a5.cloudfront.net/topher/2017/September/59ad9908_27-the-maltese-falcon-1941-film/27-the-maltese-falcon-1941-film.txt',\n",
        "                     'https://d17h27t6h515a5.cloudfront.net/topher/2017/September/59ad9909_29-12-years-a-slave-film/29-12-years-a-slave-film.txt',\n",
        "                     'https://d17h27t6h515a5.cloudfront.net/topher/2017/September/59ad9909_30-gravity-2013-film/30-gravity-2013-film.txt',\n",
        "                     'https://d17h27t6h515a5.cloudfront.net/topher/2017/September/59ad9909_31-sunset-boulevard-film/31-sunset-boulevard-film.txt',\n",
        "                     'https://d17h27t6h515a5.cloudfront.net/topher/2017/September/59ad990a_32-king-kong-1933-film/32-king-kong-1933-film.txt',\n",
        "                     'https://d17h27t6h515a5.cloudfront.net/topher/2017/September/59ad990a_33-spotlight-film/33-spotlight-film.txt',\n",
        "                     'https://d17h27t6h515a5.cloudfront.net/topher/2017/September/59ad990a_34-the-adventures-of-robin-hood/34-the-adventures-of-robin-hood.txt',\n",
        "                     'https://d17h27t6h515a5.cloudfront.net/topher/2017/September/59ad990b_35-rashomon/35-rashomon.txt',\n",
        "                     'https://d17h27t6h515a5.cloudfront.net/topher/2017/September/59ad990b_36-rear-window/36-rear-window.txt',\n",
        "                     'https://d17h27t6h515a5.cloudfront.net/topher/2017/September/59ad990b_37-selma-film/37-selma-film.txt',\n",
        "                     'https://d17h27t6h515a5.cloudfront.net/topher/2017/September/59ad990c_38-taxi-driver/38-taxi-driver.txt',\n",
        "                     'https://d17h27t6h515a5.cloudfront.net/topher/2017/September/59ad990c_39-toy-story-3/39-toy-story-3.txt',\n",
        "                     'https://d17h27t6h515a5.cloudfront.net/topher/2017/September/59ad990c_40-argo-2012-film/40-argo-2012-film.txt',\n",
        "                     'https://d17h27t6h515a5.cloudfront.net/topher/2017/September/59ad990d_41-toy-story-2/41-toy-story-2.txt',\n",
        "                     'https://d17h27t6h515a5.cloudfront.net/topher/2017/September/59ad990d_42-the-big-sick/42-the-big-sick.txt',\n",
        "                     'https://d17h27t6h515a5.cloudfront.net/topher/2017/September/59ad990d_43-bride-of-frankenstein/43-bride-of-frankenstein.txt',\n",
        "                     'https://d17h27t6h515a5.cloudfront.net/topher/2017/September/59ad990d_44-zootopia/44-zootopia.txt',\n",
        "                     'https://d17h27t6h515a5.cloudfront.net/topher/2017/September/59ad990e_45-m-1931-film/45-m-1931-film.txt',\n",
        "                     'https://d17h27t6h515a5.cloudfront.net/topher/2017/September/59ad990e_46-wonder-woman-2017-film/46-wonder-woman-2017-film.txt',\n",
        "                     'https://d17h27t6h515a5.cloudfront.net/topher/2017/September/59ad990e_48-alien-film/48-alien-film.txt',\n",
        "                     'https://d17h27t6h515a5.cloudfront.net/topher/2017/September/59ad990f_49-bicycle-thieves/49-bicycle-thieves.txt',\n",
        "                     'https://d17h27t6h515a5.cloudfront.net/topher/2017/September/59ad990f_50-seven-samurai/50-seven-samurai.txt',\n",
        "                     'https://d17h27t6h515a5.cloudfront.net/topher/2017/September/59ad990f_51-the-treasure-of-the-sierra-madre-film/51-the-treasure-of-the-sierra-madre-film.txt',\n",
        "                     'https://d17h27t6h515a5.cloudfront.net/topher/2017/September/59ad9910_52-up-2009-film/52-up-2009-film.txt',\n",
        "                     'https://d17h27t6h515a5.cloudfront.net/topher/2017/September/59ad9910_53-12-angry-men-1957-film/53-12-angry-men-1957-film.txt',\n",
        "                     'https://d17h27t6h515a5.cloudfront.net/topher/2017/September/59ad9910_54-the-400-blows/54-the-400-blows.txt',\n",
        "                     'https://d17h27t6h515a5.cloudfront.net/topher/2017/September/59ad9911_55-logan-film/55-logan-film.txt',\n",
        "                     'https://d17h27t6h515a5.cloudfront.net/topher/2017/September/59ad9911_57-army-of-shadows/57-army-of-shadows.txt',\n",
        "                     'https://d17h27t6h515a5.cloudfront.net/topher/2017/September/59ad9912_58-arrival-film/58-arrival-film.txt',\n",
        "                     'https://d17h27t6h515a5.cloudfront.net/topher/2017/September/59ad9912_59-baby-driver/59-baby-driver.txt',\n",
        "                     'https://d17h27t6h515a5.cloudfront.net/topher/2017/September/59ad9913_60-a-streetcar-named-desire-1951-film/60-a-streetcar-named-desire-1951-film.txt',\n",
        "                     'https://d17h27t6h515a5.cloudfront.net/topher/2017/September/59ad9913_61-the-night-of-the-hunter-film/61-the-night-of-the-hunter-film.txt',\n",
        "                     'https://d17h27t6h515a5.cloudfront.net/topher/2017/September/59ad9913_62-star-wars-the-force-awakens/62-star-wars-the-force-awakens.txt',\n",
        "                     'https://d17h27t6h515a5.cloudfront.net/topher/2017/September/59ad9913_63-manchester-by-the-sea-film/63-manchester-by-the-sea-film.txt',\n",
        "                     'https://d17h27t6h515a5.cloudfront.net/topher/2017/September/59ad9914_64-dr.-strangelove/64-dr.-strangelove.txt',\n",
        "                     'https://d17h27t6h515a5.cloudfront.net/topher/2017/September/59ad9914_66-vertigo-film/66-vertigo-film.txt',\n",
        "                     'https://d17h27t6h515a5.cloudfront.net/topher/2017/September/59ad9914_67-the-dark-knight-film/67-the-dark-knight-film.txt',\n",
        "                     'https://d17h27t6h515a5.cloudfront.net/topher/2017/September/59ad9915_68-touch-of-evil/68-touch-of-evil.txt',\n",
        "                     'https://d17h27t6h515a5.cloudfront.net/topher/2017/September/59ad9915_69-the-babadook/69-the-babadook.txt',\n",
        "                     'https://d17h27t6h515a5.cloudfront.net/topher/2017/September/59ad9915_72-rosemary27s-baby-film/72-rosemary27s-baby-film.txt',\n",
        "                     'https://d17h27t6h515a5.cloudfront.net/topher/2017/September/59ad9916_73-finding-nemo/73-finding-nemo.txt',\n",
        "                     'https://d17h27t6h515a5.cloudfront.net/topher/2017/September/59ad9916_74-brooklyn-film/74-brooklyn-film.txt',\n",
        "                     'https://d17h27t6h515a5.cloudfront.net/topher/2017/September/59ad9917_75-the-wrestler-2008-film/75-the-wrestler-2008-film.txt',\n",
        "                     'https://d17h27t6h515a5.cloudfront.net/topher/2017/September/59ad9917_77-l.a.-confidential-film/77-l.a.-confidential-film.txt',\n",
        "                     'https://d17h27t6h515a5.cloudfront.net/topher/2017/September/59ad9918_78-gone-with-the-wind-film/78-gone-with-the-wind-film.txt',\n",
        "                     'https://d17h27t6h515a5.cloudfront.net/topher/2017/September/59ad9918_79-the-good-the-bad-and-the-ugly/79-the-good-the-bad-and-the-ugly.txt',\n",
        "                     'https://d17h27t6h515a5.cloudfront.net/topher/2017/September/59ad9918_80-skyfall/80-skyfall.txt',\n",
        "                     'https://d17h27t6h515a5.cloudfront.net/topher/2017/September/59ad9919_82-tokyo-story/82-tokyo-story.txt',\n",
        "                     'https://d17h27t6h515a5.cloudfront.net/topher/2017/September/59ad9919_83-hell-or-high-water-film/83-hell-or-high-water-film.txt',\n",
        "                     'https://d17h27t6h515a5.cloudfront.net/topher/2017/September/59ad9919_84-pinocchio-1940-film/84-pinocchio-1940-film.txt',\n",
        "                     'https://d17h27t6h515a5.cloudfront.net/topher/2017/September/59ad9919_85-the-jungle-book-2016-film/85-the-jungle-book-2016-film.txt',\n",
        "                     'https://d17h27t6h515a5.cloudfront.net/topher/2017/September/59ad991a_86-la-la-land-film/86-la-la-land-film.txt',\n",
        "                     'https://d17h27t6h515a5.cloudfront.net/topher/2017/September/59ad991b_87-star-trek-film/87-star-trek-film.txt',\n",
        "                     'https://d17h27t6h515a5.cloudfront.net/topher/2017/September/59ad991b_89-apocalypse-now/89-apocalypse-now.txt',\n",
        "                     'https://d17h27t6h515a5.cloudfront.net/topher/2017/September/59ad991c_90-on-the-waterfront/90-on-the-waterfront.txt',\n",
        "                     'https://d17h27t6h515a5.cloudfront.net/topher/2017/September/59ad991c_91-the-wages-of-fear/91-the-wages-of-fear.txt',\n",
        "                     'https://d17h27t6h515a5.cloudfront.net/topher/2017/September/59ad991c_92-the-last-picture-show/92-the-last-picture-show.txt',\n",
        "                     'https://d17h27t6h515a5.cloudfront.net/topher/2017/September/59ad991d_93-harry-potter-and-the-deathly-hallows-part-2/93-harry-potter-and-the-deathly-hallows-part-2.txt',\n",
        "                     'https://d17h27t6h515a5.cloudfront.net/topher/2017/September/59ad991d_94-the-grapes-of-wrath-film/94-the-grapes-of-wrath-film.txt',\n",
        "                     'https://d17h27t6h515a5.cloudfront.net/topher/2017/September/59ad991d_96-man-on-wire/96-man-on-wire.txt',\n",
        "                     'https://d17h27t6h515a5.cloudfront.net/topher/2017/September/59ad991e_97-jaws-film/97-jaws-film.txt',\n",
        "                     'https://d17h27t6h515a5.cloudfront.net/topher/2017/September/59ad991e_98-toy-story/98-toy-story.txt',\n",
        "                     'https://d17h27t6h515a5.cloudfront.net/topher/2017/September/59ad991e_99-the-godfather-part-ii/99-the-godfather-part-ii.txt',\n",
        "                     'https://d17h27t6h515a5.cloudfront.net/topher/2017/September/59ad991e_100-battleship-potemkin/100-battleship-potemkin.txt']"
      ],
      "execution_count": 0,
      "outputs": []
    },
    {
      "cell_type": "code",
      "metadata": {
        "id": "sZBmK6PU8Ycp",
        "colab_type": "code",
        "colab": {}
      },
      "source": [
        "for url in ebert_review_urls:\n",
        "  with open(os.path.join(folder_name,url.split('/')[-1]),mode='wb')as file:\n",
        "    response=requests.get(url)\n",
        "    file.write(response.content)\n"
      ],
      "execution_count": 0,
      "outputs": []
    },
    {
      "cell_type": "code",
      "metadata": {
        "id": "LjhDXydG9zhE",
        "colab_type": "code",
        "outputId": "ab6fff8d-a793-4d5f-c9e1-5a51c3a79130",
        "colab": {
          "base_uri": "https://localhost:8080/",
          "height": 1000
        }
      },
      "source": [
        "#checking if we did what we wanted correctly\n",
        "os.listdir(folder_name)"
      ],
      "execution_count": 0,
      "outputs": [
        {
          "output_type": "execute_result",
          "data": {
            "text/plain": [
              "['83-hell-or-high-water-film.txt',\n",
              " '40-argo-2012-film.txt',\n",
              " '37-selma-film.txt',\n",
              " '17-moonlight-2016-film.txt',\n",
              " '10-metropolis-1927-film.txt',\n",
              " '22-a-hard-day27s-night-film.txt',\n",
              " '54-the-400-blows.txt',\n",
              " '12-modern-times-film.txt',\n",
              " '89-apocalypse-now.txt',\n",
              " '74-brooklyn-film.txt',\n",
              " '69-the-babadook.txt',\n",
              " '49-bicycle-thieves.txt',\n",
              " '31-sunset-boulevard-film.txt',\n",
              " '93-harry-potter-and-the-deathly-hallows-part-2.txt',\n",
              " '4-get-out-film.txt',\n",
              " '79-the-good-the-bad-and-the-ugly.txt',\n",
              " '78-gone-with-the-wind-film.txt',\n",
              " '80-skyfall.txt',\n",
              " '8-inside-out-2015-film.txt',\n",
              " '92-the-last-picture-show.txt',\n",
              " '23-la-grande-illusion.txt',\n",
              " '97-jaws-film.txt',\n",
              " '55-logan-film.txt',\n",
              " '6-the-cabinet-of-dr.-caligari.txt',\n",
              " '36-rear-window.txt',\n",
              " '15-boyhood-film.txt',\n",
              " '87-star-trek-film.txt',\n",
              " '61-the-night-of-the-hunter-film.txt',\n",
              " '64-dr.-strangelove.txt',\n",
              " '45-m-1931-film.txt',\n",
              " '32-king-kong-1933-film.txt',\n",
              " '50-seven-samurai.txt',\n",
              " '25-the-battle-of-algiers.txt',\n",
              " '33-spotlight-film.txt',\n",
              " '91-the-wages-of-fear.txt',\n",
              " '52-up-2009-film.txt',\n",
              " '39-toy-story-3.txt',\n",
              " '58-arrival-film.txt',\n",
              " '48-alien-film.txt',\n",
              " '57-army-of-shadows.txt',\n",
              " '41-toy-story-2.txt',\n",
              " '3-the-third-man.txt',\n",
              " '43-bride-of-frankenstein.txt',\n",
              " '26-dunkirk-2017-film.txt',\n",
              " '44-zootopia.txt',\n",
              " '27-the-maltese-falcon-1941-film.txt',\n",
              " '51-the-treasure-of-the-sierra-madre-film.txt',\n",
              " '18-psycho-1960-film.txt',\n",
              " '2-citizen-kane.txt',\n",
              " '30-gravity-2013-film.txt',\n",
              " '35-rashomon.txt',\n",
              " '60-a-streetcar-named-desire-1951-film.txt',\n",
              " '53-12-angry-men-1957-film.txt',\n",
              " '82-tokyo-story.txt',\n",
              " '7-all-about-eve.txt',\n",
              " '16-casablanca-film.txt',\n",
              " '77-l.a.-confidential-film.txt',\n",
              " '86-la-la-land-film.txt',\n",
              " '68-touch-of-evil.txt',\n",
              " '34-the-adventures-of-robin-hood.txt',\n",
              " '100-battleship-potemkin.txt',\n",
              " '66-vertigo-film.txt',\n",
              " '63-manchester-by-the-sea-film.txt',\n",
              " '19-laura-1944-film.txt',\n",
              " '38-taxi-driver.txt',\n",
              " '73-finding-nemo.txt',\n",
              " '99-the-godfather-part-ii.txt',\n",
              " '9-the-godfather.txt',\n",
              " '75-the-wrestler-2008-film.txt',\n",
              " '84-pinocchio-1940-film.txt',\n",
              " '62-star-wars-the-force-awakens.txt',\n",
              " '72-rosemary27s-baby-film.txt',\n",
              " '29-12-years-a-slave-film.txt',\n",
              " '21-snow-white-and-the-seven-dwarfs-1937-film.txt',\n",
              " '5-mad-max-fury-road.txt',\n",
              " '85-the-jungle-book-2016-film.txt',\n",
              " '96-man-on-wire.txt',\n",
              " '59-baby-driver.txt',\n",
              " '90-on-the-waterfront.txt',\n",
              " '1-the-wizard-of-oz-1939-film.txt',\n",
              " '98-toy-story.txt',\n",
              " '94-the-grapes-of-wrath-film.txt',\n",
              " '46-wonder-woman-2017-film.txt',\n",
              " '14-singin-in-the-rain.txt',\n",
              " '11-e.t.-the-extra-terrestrial.txt',\n",
              " '20-nosferatu.txt',\n",
              " '42-the-big-sick.txt',\n",
              " '67-the-dark-knight-film.txt']"
            ]
          },
          "metadata": {
            "tags": []
          },
          "execution_count": 21
        }
      ]
    },
    {
      "cell_type": "code",
      "metadata": {
        "id": "2FnOMd56-tTo",
        "colab_type": "code",
        "colab": {}
      },
      "source": [
        "import glob"
      ],
      "execution_count": 0,
      "outputs": []
    },
    {
      "cell_type": "code",
      "metadata": {
        "id": "F6Ms5AvFERAl",
        "colab_type": "code",
        "outputId": "e221a1f2-7856-4c07-c27d-b459d1a8b506",
        "colab": {
          "base_uri": "https://localhost:8080/",
          "height": 306
        }
      },
      "source": [
        "df_list=[]\n",
        "#for ebert_review in os.listdir(folder_name):\n",
        "  #with open (os.path.join(folder_name,ebert_review),encoding='utf-8') as file:\n",
        "for ebert_review in glob.glob('ebert_reviews/*.txt'):\n",
        "  with open(ebert_review,encoding='utf-8') as file:\n",
        "    title=file.readline()[:-1]\n",
        "    review_url=file.readline()[:-1]\n",
        "    review_text=file.read()\n",
        "    df_list.append({'title':title,\n",
        "                    'review_url':review_url,\n",
        "                    'review_text':review_text})\n",
        "df=pd.DataFrame(df_list)\n",
        "df.head()"
      ],
      "execution_count": 0,
      "outputs": [
        {
          "output_type": "execute_result",
          "data": {
            "text/html": [
              "<div>\n",
              "<style scoped>\n",
              "    .dataframe tbody tr th:only-of-type {\n",
              "        vertical-align: middle;\n",
              "    }\n",
              "\n",
              "    .dataframe tbody tr th {\n",
              "        vertical-align: top;\n",
              "    }\n",
              "\n",
              "    .dataframe thead th {\n",
              "        text-align: right;\n",
              "    }\n",
              "</style>\n",
              "<table border=\"1\" class=\"dataframe\">\n",
              "  <thead>\n",
              "    <tr style=\"text-align: right;\">\n",
              "      <th></th>\n",
              "      <th>title</th>\n",
              "      <th>review_url</th>\n",
              "      <th>review_text</th>\n",
              "    </tr>\n",
              "  </thead>\n",
              "  <tbody>\n",
              "    <tr>\n",
              "      <th>0</th>\n",
              "      <td>Hell or High Water (2016)</td>\n",
              "      <td>http://www.rogerebert.com/reviews/hell-or-high...</td>\n",
              "      <td>After a summer filled with retreads, ripoffs a...</td>\n",
              "    </tr>\n",
              "    <tr>\n",
              "      <th>1</th>\n",
              "      <td>Argo (2012)</td>\n",
              "      <td>http://www.rogerebert.com/reviews/argo-2012</td>\n",
              "      <td>It's the same the world over. A Hollywood prod...</td>\n",
              "    </tr>\n",
              "    <tr>\n",
              "      <th>2</th>\n",
              "      <td>Selma (2015)</td>\n",
              "      <td>http://www.rogerebert.com/reviews/selma-2014</td>\n",
              "      <td>In a perfect world, “Selma” would exist solely...</td>\n",
              "    </tr>\n",
              "    <tr>\n",
              "      <th>3</th>\n",
              "      <td>Moonlight (2016)</td>\n",
              "      <td>http://www.rogerebert.com/reviews/moonlight-2016</td>\n",
              "      <td>“Who is you, man?” Dramatic film has long been...</td>\n",
              "    </tr>\n",
              "    <tr>\n",
              "      <th>4</th>\n",
              "      <td>Metropolis (1927)</td>\n",
              "      <td>http://www.rogerebert.com/reviews/great-movie-...</td>\n",
              "      <td>The opening shots of the restored “Metropolis”...</td>\n",
              "    </tr>\n",
              "  </tbody>\n",
              "</table>\n",
              "</div>"
            ],
            "text/plain": [
              "                       title  ...                                        review_text\n",
              "0  Hell or High Water (2016)  ...  After a summer filled with retreads, ripoffs a...\n",
              "1                Argo (2012)  ...  It's the same the world over. A Hollywood prod...\n",
              "2               Selma (2015)  ...  In a perfect world, “Selma” would exist solely...\n",
              "3           Moonlight (2016)  ...  “Who is you, man?” Dramatic film has long been...\n",
              "4          Metropolis (1927)  ...  The opening shots of the restored “Metropolis”...\n",
              "\n",
              "[5 rows x 3 columns]"
            ]
          },
          "metadata": {
            "tags": []
          },
          "execution_count": 35
        }
      ]
    },
    {
      "cell_type": "code",
      "metadata": {
        "id": "SPnHCJ0PE_GN",
        "colab_type": "code",
        "colab": {}
      },
      "source": [
        "from PIL import Image\n",
        "from io import BytesIO"
      ],
      "execution_count": 0,
      "outputs": []
    },
    {
      "cell_type": "code",
      "metadata": {
        "id": "mWxu9OtXsGrJ",
        "colab_type": "code",
        "outputId": "365b46fa-6046-45ae-8fbd-2bab535686f1",
        "colab": {
          "base_uri": "https://localhost:8080/",
          "height": 309
        }
      },
      "source": [
        "!pip install wptools\n",
        "import wptools"
      ],
      "execution_count": 0,
      "outputs": [
        {
          "output_type": "stream",
          "text": [
            "Collecting wptools\n",
            "  Downloading https://files.pythonhosted.org/packages/e2/5c/0d8af5532e44477edeb3dac81d3a611ea75827a18b6b4068c3cc2188bfe5/wptools-0.4.17-py2.py3-none-any.whl\n",
            "Requirement already satisfied: lxml in /usr/local/lib/python3.6/dist-packages (from wptools) (4.2.6)\n",
            "Requirement already satisfied: certifi in /usr/local/lib/python3.6/dist-packages (from wptools) (2019.11.28)\n",
            "Collecting html2text\n",
            "  Downloading https://files.pythonhosted.org/packages/ae/88/14655f727f66b3e3199f4467bafcc88283e6c31b562686bf606264e09181/html2text-2020.1.16-py3-none-any.whl\n",
            "Collecting pycurl\n",
            "\u001b[?25l  Downloading https://files.pythonhosted.org/packages/ef/05/4b773f74f830a90a326b06f9b24e65506302ab049e825a3c0b60b1a6e26a/pycurl-7.43.0.5.tar.gz (216kB)\n",
            "\u001b[K     |████████████████████████████████| 225kB 7.0MB/s \n",
            "\u001b[?25hBuilding wheels for collected packages: pycurl\n",
            "  Building wheel for pycurl (setup.py) ... \u001b[?25l\u001b[?25hdone\n",
            "  Created wheel for pycurl: filename=pycurl-7.43.0.5-cp36-cp36m-linux_x86_64.whl size=283533 sha256=4563f4fb6e1b539f1d250525310dbdd108df91808cf0c2225dc7f26d405512fa\n",
            "  Stored in directory: /root/.cache/pip/wheels/98/a3/19/9439c79b88a742f508af0c4e410ae3f685db2e13d3374e798e\n",
            "Successfully built pycurl\n",
            "Installing collected packages: html2text, pycurl, wptools\n",
            "Successfully installed html2text-2020.1.16 pycurl-7.43.0.5 wptools-0.4.17\n"
          ],
          "name": "stdout"
        }
      ]
    },
    {
      "cell_type": "code",
      "metadata": {
        "id": "EPQaAeuVojRU",
        "colab_type": "code",
        "colab": {}
      },
      "source": [
        "title_list = [\n",
        " 'The_Wizard_of_Oz_(1939_film)',\n",
        " 'Citizen_Kane',\n",
        " 'The_Third_Man',\n",
        " 'Get_Out_(film)',\n",
        " 'Mad_Max:_Fury_Road',\n",
        " 'The_Cabinet_of_Dr._Caligari',\n",
        " 'All_About_Eve',\n",
        " 'Inside_Out_(2015_film)',\n",
        " 'The_Godfather',\n",
        " 'Metropolis_(1927_film)',\n",
        " 'E.T._the_Extra-Terrestrial',\n",
        " 'Modern_Times_(film)',\n",
        " 'It_Happened_One_Night',\n",
        " \"Singin'_in_the_Rain\",\n",
        " 'Boyhood_(film)',\n",
        " 'Casablanca_(film)',\n",
        " 'Moonlight_(2016_film)',\n",
        " 'Psycho_(1960_film)',\n",
        " 'Laura_(1944_film)',\n",
        " 'Nosferatu',\n",
        " 'Snow_White_and_the_Seven_Dwarfs_(1937_film)',\n",
        " \"A_Hard_Day%27s_Night_(film)\",\n",
        " 'La_Grande_Illusion',\n",
        " 'North_by_Northwest',\n",
        " 'The_Battle_of_Algiers',\n",
        " 'Dunkirk_(2017_film)',\n",
        " 'The_Maltese_Falcon_(1941_film)',\n",
        " 'Repulsion_(film)',\n",
        " '12_Years_a_Slave_(film)',\n",
        " 'Gravity_(2013_film)',\n",
        " 'Sunset_Boulevard_(film)',\n",
        " 'King_Kong_(1933_film)',\n",
        " 'Spotlight_(film)',\n",
        " 'The_Adventures_of_Robin_Hood',\n",
        " 'Rashomon',\n",
        " 'Rear_Window',\n",
        " 'Selma_(film)',\n",
        " 'Taxi_Driver',\n",
        " 'Toy_Story_3',\n",
        " 'Argo_(2012_film)',\n",
        " 'Toy_Story_2',\n",
        " 'The_Big_Sick',\n",
        " 'Bride_of_Frankenstein',\n",
        " 'Zootopia',\n",
        " 'M_(1931_film)',\n",
        " 'Wonder_Woman_(2017_film)',\n",
        " 'The_Philadelphia_Story_(film)',\n",
        " 'Alien_(film)',\n",
        " 'Bicycle_Thieves',\n",
        " 'Seven_Samurai',\n",
        " 'The_Treasure_of_the_Sierra_Madre_(film)',\n",
        " 'Up_(2009_film)',\n",
        " '12_Angry_Men_(1957_film)',\n",
        " 'The_400_Blows',\n",
        " 'Logan_(film)',\n",
        " 'All_Quiet_on_the_Western_Front_(1930_film)',\n",
        " 'Army_of_Shadows',\n",
        " 'Arrival_(film)',\n",
        " 'Baby_Driver',\n",
        " 'A_Streetcar_Named_Desire_(1951_film)',\n",
        " 'The_Night_of_the_Hunter_(film)',\n",
        " 'Star_Wars:_The_Force_Awakens',\n",
        " 'Manchester_by_the_Sea_(film)',\n",
        " 'Dr._Strangelove',\n",
        " 'Frankenstein_(1931_film)',\n",
        " 'Vertigo_(film)',\n",
        " 'The_Dark_Knight_(film)',\n",
        " 'Touch_of_Evil',\n",
        " 'The_Babadook',\n",
        " 'The_Conformist_(film)',\n",
        " 'Rebecca_(1940_film)',\n",
        " \"Rosemary%27s_Baby_(film)\",\n",
        " 'Finding_Nemo',\n",
        " 'Brooklyn_(film)',\n",
        " 'The_Wrestler_(2008_film)',\n",
        " 'The_39_Steps_(1935_film)',\n",
        " 'L.A._Confidential_(film)',\n",
        " 'Gone_with_the_Wind_(film)',\n",
        " 'The_Good,_the_Bad_and_the_Ugly',\n",
        " 'Skyfall',\n",
        " 'Rome,_Open_City',\n",
        " 'Tokyo_Story',\n",
        " 'Hell_or_High_Water_(film)',\n",
        " 'Pinocchio_(1940_film)',\n",
        " 'The_Jungle_Book_(2016_film)',\n",
        " 'La_La_Land_(film)',\n",
        " 'Star_Trek_(film)',\n",
        " 'High_Noon',\n",
        " 'Apocalypse_Now',\n",
        " 'On_the_Waterfront',\n",
        " 'The_Wages_of_Fear',\n",
        " 'The_Last_Picture_Show',\n",
        " 'Harry_Potter_and_the_Deathly_Hallows_–_Part_2',\n",
        " 'The_Grapes_of_Wrath_(film)',\n",
        " 'Roman_Holiday',\n",
        " 'Man_on_Wire',\n",
        " 'Jaws_(film)',\n",
        " 'Toy_Story',\n",
        " 'The_Godfather_Part_II',\n",
        " 'Battleship_Potemkin'\n",
        "]"
      ],
      "execution_count": 0,
      "outputs": []
    },
    {
      "cell_type": "code",
      "metadata": {
        "id": "WQxwRedIopM2",
        "colab_type": "code",
        "colab": {}
      },
      "source": [
        "folder_name='bestofrt_posters'\n",
        "if not os.path.exists(folder_name):\n",
        "  os.makedirs(folder_name)"
      ],
      "execution_count": 0,
      "outputs": []
    },
    {
      "cell_type": "code",
      "metadata": {
        "id": "jaIGeJ_Wo6eW",
        "colab_type": "code",
        "outputId": "dbd3078b-2807-46d9-e440-8c74af1330e6",
        "colab": {
          "base_uri": "https://localhost:8080/",
          "height": 1000
        }
      },
      "source": [
        "df_list=[]\n",
        "image_errors={}\n",
        "for title in title_list:\n",
        "  try:\n",
        "    ranking=title_list.index(title)+1\n",
        "    print(ranking)\n",
        "    page=wptools.page(title, silent=True)\n",
        "    images=page.get().data['image']\n",
        "    first_image_url=images[0]['url']\n",
        "    r = requests.get(first_image_url)\n",
        "    i = Image.open(BytesIO(r.content))\n",
        "    image_file_format = first_image_url.split('.')[-1]\n",
        "    i.save(folder_name +'/'+str(ranking)+'_'+ title+'.'+image_file_format)\n",
        "    df_list.append({'ranking':int(ranking),\n",
        "                    'title':title,\n",
        "                    'poster_url':first_image_url})\n",
        "  except Exception as e:\n",
        "        print(str(ranking) + \"_\" + title + \": \" + str(e))\n",
        "        image_errors[str(ranking) + \"_\" + title] = images\n",
        "\n",
        "    "
      ],
      "execution_count": 0,
      "outputs": [
        {
          "output_type": "stream",
          "text": [
            "1\n",
            "2\n",
            "3\n",
            "4\n",
            "5\n",
            "6\n",
            "7\n",
            "8\n",
            "9\n",
            "10\n",
            "11\n",
            "12\n",
            "13\n",
            "14\n",
            "15\n",
            "16\n",
            "17\n",
            "18\n",
            "19\n",
            "20\n",
            "21\n",
            "22\n"
          ],
          "name": "stdout"
        },
        {
          "output_type": "stream",
          "text": [
            "API error: {'code': 'invalidtitle', 'info': 'Bad title \"A_Hard_Day%27s_Night_(film)\".', 'docref': 'See https://en.wikipedia.org/w/api.php for API usage. Subscribe to the mediawiki-api-announce mailing list at &lt;https://lists.wikimedia.org/mailman/listinfo/mediawiki-api-announce&gt; for notice of API deprecations and breaking changes.'}\n"
          ],
          "name": "stderr"
        },
        {
          "output_type": "stream",
          "text": [
            "22_A_Hard_Day%27s_Night_(film): https://en.wikipedia.org/w/api.php?action=parse&formatversion=2&contentmodel=text&disableeditsection=&disablelimitreport=&disabletoc=&prop=text|iwlinks|parsetree|wikitext|displaytitle|properties&redirects&page=A_Hard_Day%2527s_Night_%28film%29\n",
            "23\n",
            "24\n",
            "25\n",
            "26\n",
            "27\n",
            "28\n",
            "29\n",
            "30\n",
            "31\n",
            "32\n",
            "33\n",
            "34\n",
            "35\n",
            "36\n",
            "37\n",
            "38\n",
            "39\n",
            "40\n",
            "41\n",
            "42\n",
            "43\n",
            "44\n",
            "45\n",
            "46\n",
            "47\n",
            "48\n",
            "49\n",
            "50\n",
            "51\n",
            "52\n",
            "53\n",
            "54\n",
            "55\n",
            "56\n",
            "57\n",
            "58\n",
            "59\n",
            "60\n",
            "61\n",
            "62\n",
            "63\n",
            "64\n",
            "64_Dr._Strangelove: cannot identify image file <_io.BytesIO object at 0x7f3d27485518>\n",
            "65\n",
            "66\n",
            "67\n",
            "68\n",
            "69\n",
            "70\n",
            "71\n",
            "72\n"
          ],
          "name": "stdout"
        },
        {
          "output_type": "stream",
          "text": [
            "API error: {'code': 'invalidtitle', 'info': 'Bad title \"Rosemary%27s_Baby_(film)\".', 'docref': 'See https://en.wikipedia.org/w/api.php for API usage. Subscribe to the mediawiki-api-announce mailing list at &lt;https://lists.wikimedia.org/mailman/listinfo/mediawiki-api-announce&gt; for notice of API deprecations and breaking changes.'}\n"
          ],
          "name": "stderr"
        },
        {
          "output_type": "stream",
          "text": [
            "72_Rosemary%27s_Baby_(film): https://en.wikipedia.org/w/api.php?action=parse&formatversion=2&contentmodel=text&disableeditsection=&disablelimitreport=&disabletoc=&prop=text|iwlinks|parsetree|wikitext|displaytitle|properties&redirects&page=Rosemary%2527s_Baby_%28film%29\n",
            "73\n",
            "74\n",
            "75\n",
            "76\n",
            "77\n",
            "78\n",
            "79\n",
            "80\n",
            "81\n",
            "82\n",
            "83\n",
            "83_Hell_or_High_Water_(film): 'image'\n",
            "84\n",
            "85\n",
            "86\n",
            "87\n",
            "88\n",
            "89\n",
            "90\n",
            "91\n",
            "92\n",
            "93\n",
            "94\n",
            "95\n",
            "96\n",
            "97\n",
            "98\n",
            "99\n",
            "100\n"
          ],
          "name": "stdout"
        }
      ]
    },
    {
      "cell_type": "code",
      "metadata": {
        "id": "Sv2iCtYjrmB5",
        "colab_type": "code",
        "outputId": "f98f2c8e-b125-4246-f908-b5c744883d5e",
        "colab": {
          "base_uri": "https://localhost:8080/",
          "height": 204
        }
      },
      "source": [
        "df = pd.DataFrame(df_list, columns = ['ranking', 'title', 'poster_url'])\n",
        "df = df.sort_values('ranking').reset_index(drop=True)\n",
        "df.head()"
      ],
      "execution_count": 0,
      "outputs": [
        {
          "output_type": "execute_result",
          "data": {
            "text/html": [
              "<div>\n",
              "<style scoped>\n",
              "    .dataframe tbody tr th:only-of-type {\n",
              "        vertical-align: middle;\n",
              "    }\n",
              "\n",
              "    .dataframe tbody tr th {\n",
              "        vertical-align: top;\n",
              "    }\n",
              "\n",
              "    .dataframe thead th {\n",
              "        text-align: right;\n",
              "    }\n",
              "</style>\n",
              "<table border=\"1\" class=\"dataframe\">\n",
              "  <thead>\n",
              "    <tr style=\"text-align: right;\">\n",
              "      <th></th>\n",
              "      <th>ranking</th>\n",
              "      <th>title</th>\n",
              "      <th>poster_url</th>\n",
              "    </tr>\n",
              "  </thead>\n",
              "  <tbody>\n",
              "    <tr>\n",
              "      <th>0</th>\n",
              "      <td>1</td>\n",
              "      <td>The_Wizard_of_Oz_(1939_film)</td>\n",
              "      <td>https://upload.wikimedia.org/wikipedia/commons...</td>\n",
              "    </tr>\n",
              "    <tr>\n",
              "      <th>1</th>\n",
              "      <td>2</td>\n",
              "      <td>Citizen_Kane</td>\n",
              "      <td>https://upload.wikimedia.org/wikipedia/commons...</td>\n",
              "    </tr>\n",
              "    <tr>\n",
              "      <th>2</th>\n",
              "      <td>3</td>\n",
              "      <td>The_Third_Man</td>\n",
              "      <td>https://upload.wikimedia.org/wikipedia/commons...</td>\n",
              "    </tr>\n",
              "    <tr>\n",
              "      <th>3</th>\n",
              "      <td>4</td>\n",
              "      <td>Get_Out_(film)</td>\n",
              "      <td>https://upload.wikimedia.org/wikipedia/en/a/a3...</td>\n",
              "    </tr>\n",
              "    <tr>\n",
              "      <th>4</th>\n",
              "      <td>5</td>\n",
              "      <td>Mad_Max:_Fury_Road</td>\n",
              "      <td>https://upload.wikimedia.org/wikipedia/en/6/6e...</td>\n",
              "    </tr>\n",
              "  </tbody>\n",
              "</table>\n",
              "</div>"
            ],
            "text/plain": [
              "   ranking  ...                                         poster_url\n",
              "0        1  ...  https://upload.wikimedia.org/wikipedia/commons...\n",
              "1        2  ...  https://upload.wikimedia.org/wikipedia/commons...\n",
              "2        3  ...  https://upload.wikimedia.org/wikipedia/commons...\n",
              "3        4  ...  https://upload.wikimedia.org/wikipedia/en/a/a3...\n",
              "4        5  ...  https://upload.wikimedia.org/wikipedia/en/6/6e...\n",
              "\n",
              "[5 rows x 3 columns]"
            ]
          },
          "metadata": {
            "tags": []
          },
          "execution_count": 50
        }
      ]
    },
    {
      "cell_type": "code",
      "metadata": {
        "id": "tB1jWkSBs3_6",
        "colab_type": "code",
        "colab": {}
      },
      "source": [
        "from sqlalchemy import create_engine\n",
        "engine=create_engine('sqlite:///bestofrt.db')\n",
        "df.to_sql('master',engine,index=False)\n",
        "df=pd.read_sql('SELECT * FROM master', engine)"
      ],
      "execution_count": 0,
      "outputs": []
    }
  ]
}